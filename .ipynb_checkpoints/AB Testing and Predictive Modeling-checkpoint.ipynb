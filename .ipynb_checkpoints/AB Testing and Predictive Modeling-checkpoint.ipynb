{
 "cells": [
  {
   "cell_type": "markdown",
   "metadata": {},
   "source": [
    "# A/B Testing \n",
    "*Notes summarized and condensed from https://medium.com/@RenatoFillinich/ab-testing-with-python-e5964dd66143*\n",
    "   \n",
    "1. Designing our experiment\n",
    "2. Collecting and preparing the data\n",
    "3. Visualizing the results\n",
    "4. Testing the hypothesis \n",
    "5. Drawing conclusions "
   ]
  },
  {
   "cell_type": "markdown",
   "metadata": {},
   "source": [
    "**Scenario**\n",
    "- online ecommerce business \n",
    "- current conversion rate of product page: 13% on average throughout the year\n",
    "- team would be happy with 2% increase (new design considered successful if it raises conversion rate to 15%) "
   ]
  },
  {
   "cell_type": "markdown",
   "metadata": {},
   "source": [
    "### 1. Designing our experiment\n",
    "   \n",
    "#### Formulating hypothesis   \n",
    "Two-tailed test to see if new design will perform better or worse or the same:   \n",
    "$H_{0}$: p = $p_{0}$   \n",
    "$H_{a}$: p != $p_{0}$   \n",
    "p is conversion rate of new design, $p_{0}$ is conversion rate of old design    \n",
    "\n",
    "$\\alpha$ = 0.05    \n",
    "- if probability of observing a result as extreme or more (p-value) is lower than $\\alpha$, then reject null.    \n",
    "\n",
    "(our independent variable)   \n",
    "Control: old design   \n",
    "Test: new design    \n",
    "   \n",
    "(dependent variable - what we are tryna measure)   \n",
    "conversion rate:   \n",
    "- 0: user did not buy the product during this user session   \n",
    "- 1: user bought the product during this user session    \n",
    "\n",
    "#### Choosing sample size   \n",
    "The number of people/user sessions we decide in each group will have an affect on the precision of our estimated conversion rates: the larger the sample size, the more precise our estimate (i.e. the smaller the C.I.), the higher the chance to detect a difference in two groups, if present.   \n",
    "But also more expensive.   \n",
    "   \n",
    "#### Power analysis:    \n",
    "- Power of the test (1 - $\\beta$): probability of finding a statistical difference between the groups in our test when a difference is actually present (0.80 by convention)   \n",
    "    - have 80% chance to detect it as statistically significant in our test with the sample size we will calculate \n",
    "- Alpha value: critical value (0.05)   \n",
    "- Effect size: how big of a difference we expect there to be between the conversion rates  "
   ]
  },
  {
   "cell_type": "code",
   "execution_count": 1,
   "metadata": {},
   "outputs": [],
   "source": [
    "import numpy as np\n",
    "import pandas as pd\n",
    "import scipy.stats as stats\n",
    "import statsmodels.stats.api as sms\n",
    "import matplotlib as mpl\n",
    "import matplotlib.pyplot as plt\n",
    "import seaborn as sns\n",
    "from math import ceil\n",
    "\n",
    "%matplotlib inline # will make your plot outputs appear and be stored within the notebook"
   ]
  },
  {
   "cell_type": "code",
   "execution_count": 4,
   "metadata": {},
   "outputs": [
    {
     "data": {
      "text/plain": [
       "-0.0576728617308947"
      ]
     },
     "execution_count": 4,
     "metadata": {},
     "output_type": "execute_result"
    }
   ],
   "source": [
    "effect_size = sms.proportion_effectsize(0.13, 0.15)\n",
    "effect_size"
   ]
  },
  {
   "cell_type": "code",
   "execution_count": 5,
   "metadata": {},
   "outputs": [
    {
     "name": "stdout",
     "output_type": "stream",
     "text": [
      "4720\n"
     ]
    }
   ],
   "source": [
    "# for two sample \n",
    "required_n = sms.NormalIndPower().solve_power(\n",
    "    effect_size, \n",
    "    power=0.8, \n",
    "    alpha=0.05, \n",
    "    ratio=1\n",
    "    ) # Calculating sample size needed\n",
    "\n",
    "required_n = ceil(required_n) # Rounding up to next whole number                          \n",
    "\n",
    "print(required_n) # required_n is the number needed for each group "
   ]
  },
  {
   "cell_type": "code",
   "execution_count": null,
   "metadata": {},
   "outputs": [],
   "source": []
  },
  {
   "cell_type": "code",
   "execution_count": null,
   "metadata": {},
   "outputs": [],
   "source": []
  },
  {
   "cell_type": "code",
   "execution_count": null,
   "metadata": {},
   "outputs": [],
   "source": []
  },
  {
   "cell_type": "code",
   "execution_count": null,
   "metadata": {},
   "outputs": [],
   "source": []
  },
  {
   "cell_type": "code",
   "execution_count": null,
   "metadata": {},
   "outputs": [],
   "source": []
  },
  {
   "cell_type": "code",
   "execution_count": null,
   "metadata": {},
   "outputs": [],
   "source": []
  },
  {
   "cell_type": "code",
   "execution_count": null,
   "metadata": {},
   "outputs": [],
   "source": []
  },
  {
   "cell_type": "code",
   "execution_count": null,
   "metadata": {},
   "outputs": [],
   "source": []
  },
  {
   "cell_type": "code",
   "execution_count": null,
   "metadata": {},
   "outputs": [],
   "source": []
  },
  {
   "cell_type": "code",
   "execution_count": null,
   "metadata": {},
   "outputs": [],
   "source": []
  }
 ],
 "metadata": {
  "kernelspec": {
   "display_name": "Python 3",
   "language": "python",
   "name": "python3"
  },
  "language_info": {
   "codemirror_mode": {
    "name": "ipython",
    "version": 3
   },
   "file_extension": ".py",
   "mimetype": "text/x-python",
   "name": "python",
   "nbconvert_exporter": "python",
   "pygments_lexer": "ipython3",
   "version": "3.7.4"
  }
 },
 "nbformat": 4,
 "nbformat_minor": 4
}
